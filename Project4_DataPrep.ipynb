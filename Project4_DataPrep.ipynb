{
 "cells": [
  {
   "cell_type": "markdown",
   "metadata": {},
   "source": [
    "## Data Prep"
   ]
  },
  {
   "cell_type": "code",
   "execution_count": 1,
   "metadata": {
    "collapsed": true
   },
   "outputs": [],
   "source": [
    "import json\n",
    "import numpy as np\n",
    "import pandas as pd\n",
    "\n",
    "import re\n",
    "import matplotlib.pyplot as plt\n",
    "from wordcloud import WordCloud\n",
    "\n",
    "from textblob import TextBlob\n",
    "# gensim\n",
    "from gensim import corpora, models, similarities, matutils\n",
    "# sklearn\n",
    "from sklearn import datasets\n",
    "from sklearn.feature_extraction.text import CountVectorizer\n",
    "from sklearn.cluster import KMeans\n",
    "# logging for gensim (set to INFO)\n",
    "import logging\n",
    "logging.basicConfig(format='%(asctime)s : %(levelname)s : %(message)s', level=logging.INFO)\n",
    "\n",
    "\n",
    "import preprocessor as p # \n",
    "import string # use string.punctuation to clean out punctuation\n",
    "\n",
    "from pprint import pprint\n",
    "\n",
    "from datetime import datetime\n",
    "import pickle\n",
    "\n",
    "import nltk\n",
    "\n",
    "from tqdm import tqdm\n",
    "\n",
    "pd.set_option('display.max_colwidth', -1)"
   ]
  },
  {
   "cell_type": "code",
   "execution_count": 2,
   "metadata": {
    "collapsed": true
   },
   "outputs": [],
   "source": [
    "# Previous 7 days tweets\n",
    "# Export the MongoDB collection to json format and transfer from AWS EC2 to localhost\n",
    "# mongoexport -d climatechange -c climate_tweets -o tweets.json\n",
    "# scp myaws:tweets.json .\n",
    "# Read the data into an array\n",
    "\n",
    "tweets_data = []\n",
    "tweets_file = open('tweets.json','r')\n",
    "for line in tweets_file:\n",
    "\n",
    "    tweet = json.loads(line)\n",
    "    tweets_data.append(tweet)\n",
    "    "
   ]
  },
  {
   "cell_type": "code",
   "execution_count": 3,
   "metadata": {
    "scrolled": true
   },
   "outputs": [
    {
     "name": "stdout",
     "output_type": "stream",
     "text": [
      "17579\n"
     ]
    }
   ],
   "source": [
    "print(len(tweets_data))"
   ]
  },
  {
   "cell_type": "code",
   "execution_count": 4,
   "metadata": {
    "collapsed": true
   },
   "outputs": [],
   "source": [
    "# Streamed tweets\n",
    "# Export the MongoDB collection to json format and transfer from AWS EC2 to localhost\n",
    "# mongoexport -d climatechange -c climate_tweets -o tweets.json\n",
    "# scp myaws:tweets.json .\n",
    "# Read the data into an array\n",
    "\n",
    "tweets_stream_data = []\n",
    "tweets_stream_file = open('tweets_stream.json','r')\n",
    "for line in tweets_stream_file:\n",
    "\n",
    "    tweet = json.loads(line)\n",
    "    tweets_stream_data.append(tweet)\n",
    "    "
   ]
  },
  {
   "cell_type": "code",
   "execution_count": 5,
   "metadata": {},
   "outputs": [
    {
     "name": "stdout",
     "output_type": "stream",
     "text": [
      "163341\n"
     ]
    }
   ],
   "source": [
    "print(len(tweets_stream_data))"
   ]
  },
  {
   "cell_type": "code",
   "execution_count": 47,
   "metadata": {
    "scrolled": false
   },
   "outputs": [
    {
     "data": {
      "text/plain": [
       "{'_id': {'$oid': '5a979c65d72c207fbdd55a86'},\n",
       " 'contributors': None,\n",
       " 'coordinates': None,\n",
       " 'created_at': 'Mon Feb 26 19:01:40 +0000 2018',\n",
       " 'display_text_range': [0, 140],\n",
       " 'entities': {'hashtags': [],\n",
       "  'symbols': [],\n",
       "  'urls': [],\n",
       "  'user_mentions': [{'id': 95515846,\n",
       "    'id_str': '95515846',\n",
       "    'indices': [3, 19],\n",
       "    'name': 'Vinny Guadagnino',\n",
       "    'screen_name': 'VINNYGUADAGNINO'},\n",
       "   {'id': 25073877,\n",
       "    'id_str': '25073877',\n",
       "    'indices': [21, 37],\n",
       "    'name': 'Donald J. Trump',\n",
       "    'screen_name': 'realDonaldTrump'}]},\n",
       " 'favorite_count': 0,\n",
       " 'favorited': False,\n",
       " 'full_text': 'RT @VINNYGUADAGNINO: @realDonaldTrump I think climate change is more complex than global warming will make it hotter. It has to do with dis…',\n",
       " 'geo': None,\n",
       " 'id': {'$numberLong': '968199401310162944'},\n",
       " 'id_str': '968199401310162944',\n",
       " 'in_reply_to_screen_name': None,\n",
       " 'in_reply_to_status_id': None,\n",
       " 'in_reply_to_status_id_str': None,\n",
       " 'in_reply_to_user_id': None,\n",
       " 'in_reply_to_user_id_str': None,\n",
       " 'is_quote_status': False,\n",
       " 'lang': 'en',\n",
       " 'metadata': {'iso_language_code': 'en', 'result_type': 'recent'},\n",
       " 'place': None,\n",
       " 'retweet_count': 17516,\n",
       " 'retweeted': False,\n",
       " 'retweeted_status': {'contributors': None,\n",
       "  'coordinates': None,\n",
       "  'created_at': 'Fri Dec 29 00:13:10 +0000 2017',\n",
       "  'display_text_range': [17, 199],\n",
       "  'entities': {'hashtags': [],\n",
       "   'symbols': [],\n",
       "   'urls': [],\n",
       "   'user_mentions': [{'id': 25073877,\n",
       "     'id_str': '25073877',\n",
       "     'indices': [0, 16],\n",
       "     'name': 'Donald J. Trump',\n",
       "     'screen_name': 'realDonaldTrump'}]},\n",
       "  'favorite_count': 108201,\n",
       "  'favorited': False,\n",
       "  'full_text': '@realDonaldTrump I think climate change is more complex than global warming will make it hotter. It has to do with disruptions of atmospheric conditions,ocean patterns, jet streams and shit like that',\n",
       "  'geo': None,\n",
       "  'id': {'$numberLong': '946534520232316929'},\n",
       "  'id_str': '946534520232316929',\n",
       "  'in_reply_to_screen_name': 'realDonaldTrump',\n",
       "  'in_reply_to_status_id': {'$numberLong': '946531657229701120'},\n",
       "  'in_reply_to_status_id_str': '946531657229701120',\n",
       "  'in_reply_to_user_id': 25073877,\n",
       "  'in_reply_to_user_id_str': '25073877',\n",
       "  'is_quote_status': False,\n",
       "  'lang': 'en',\n",
       "  'metadata': {'iso_language_code': 'en', 'result_type': 'recent'},\n",
       "  'place': None,\n",
       "  'retweet_count': 17516,\n",
       "  'retweeted': False,\n",
       "  'source': '<a href=\"http://twitter.com/download/iphone\" rel=\"nofollow\">Twitter for iPhone</a>',\n",
       "  'truncated': False,\n",
       "  'user': {'contributors_enabled': False,\n",
       "   'created_at': 'Tue Dec 08 22:22:20 +0000 2009',\n",
       "   'default_profile': False,\n",
       "   'default_profile_image': False,\n",
       "   'description': \"Best Selling Author of #ControlTheCrazy/TV guy on MTV's Jersey Shore/Cooking's #VinnyAndMaEatAmerica IG: VINNYGUADAGNINO vinnygbookings@gmail.com for business\",\n",
       "   'entities': {'description': {'urls': []},\n",
       "    'url': {'urls': [{'display_url': 'namebrandnyc.com',\n",
       "       'expanded_url': 'http://namebrandnyc.com',\n",
       "       'indices': [0, 23],\n",
       "       'url': 'https://t.co/Vap5BNr0zs'}]}},\n",
       "   'favourites_count': 640,\n",
       "   'follow_request_sent': None,\n",
       "   'followers_count': 3174231,\n",
       "   'following': None,\n",
       "   'friends_count': 1389,\n",
       "   'geo_enabled': True,\n",
       "   'has_extended_profile': False,\n",
       "   'id': 95515846,\n",
       "   'id_str': '95515846',\n",
       "   'is_translation_enabled': True,\n",
       "   'is_translator': False,\n",
       "   'lang': 'en',\n",
       "   'listed_count': 8492,\n",
       "   'location': 'NYC ',\n",
       "   'name': 'Vinny Guadagnino',\n",
       "   'notifications': None,\n",
       "   'profile_background_color': '0F0303',\n",
       "   'profile_background_image_url': 'http://pbs.twimg.com/profile_background_images/378800000064998439/667194487d21994c98ae7e3f37f20637.jpeg',\n",
       "   'profile_background_image_url_https': 'https://pbs.twimg.com/profile_background_images/378800000064998439/667194487d21994c98ae7e3f37f20637.jpeg',\n",
       "   'profile_background_tile': True,\n",
       "   'profile_banner_url': 'https://pbs.twimg.com/profile_banners/95515846/1487915231',\n",
       "   'profile_image_url': 'http://pbs.twimg.com/profile_images/833897065856000002/5yZWcrXR_normal.jpg',\n",
       "   'profile_image_url_https': 'https://pbs.twimg.com/profile_images/833897065856000002/5yZWcrXR_normal.jpg',\n",
       "   'profile_link_color': '10730A',\n",
       "   'profile_sidebar_border_color': 'FFFFFF',\n",
       "   'profile_sidebar_fill_color': '000000',\n",
       "   'profile_text_color': 'D90D0D',\n",
       "   'profile_use_background_image': True,\n",
       "   'protected': False,\n",
       "   'screen_name': 'VINNYGUADAGNINO',\n",
       "   'statuses_count': 12167,\n",
       "   'time_zone': 'Central Time (US & Canada)',\n",
       "   'translator_type': 'none',\n",
       "   'url': 'https://t.co/Vap5BNr0zs',\n",
       "   'utc_offset': -21600,\n",
       "   'verified': True}},\n",
       " 'source': '<a href=\"http://twitter.com/download/iphone\" rel=\"nofollow\">Twitter for iPhone</a>',\n",
       " 'truncated': False,\n",
       " 'user': {'contributors_enabled': False,\n",
       "  'created_at': 'Fri Jul 22 14:29:30 +0000 2016',\n",
       "  'default_profile': True,\n",
       "  'default_profile_image': False,\n",
       "  'description': 'roses are red, violets are blue, garlic bread, blink-182',\n",
       "  'entities': {'description': {'urls': []}},\n",
       "  'favourites_count': 22561,\n",
       "  'follow_request_sent': None,\n",
       "  'followers_count': 187,\n",
       "  'following': None,\n",
       "  'friends_count': 1147,\n",
       "  'geo_enabled': False,\n",
       "  'has_extended_profile': True,\n",
       "  'id': {'$numberLong': '756496393561378816'},\n",
       "  'id_str': '756496393561378816',\n",
       "  'is_translation_enabled': False,\n",
       "  'is_translator': False,\n",
       "  'lang': 'en',\n",
       "  'listed_count': 0,\n",
       "  'location': 'North Carolina, USA',\n",
       "  'name': 'i’m a bad bitch, you can’t kill me!',\n",
       "  'notifications': None,\n",
       "  'profile_background_color': 'F5F8FA',\n",
       "  'profile_background_image_url': None,\n",
       "  'profile_background_image_url_https': None,\n",
       "  'profile_background_tile': False,\n",
       "  'profile_banner_url': 'https://pbs.twimg.com/profile_banners/756496393561378816/1516310157',\n",
       "  'profile_image_url': 'http://pbs.twimg.com/profile_images/954098638636093440/XIZ0BaPz_normal.jpg',\n",
       "  'profile_image_url_https': 'https://pbs.twimg.com/profile_images/954098638636093440/XIZ0BaPz_normal.jpg',\n",
       "  'profile_link_color': '1DA1F2',\n",
       "  'profile_sidebar_border_color': 'C0DEED',\n",
       "  'profile_sidebar_fill_color': 'DDEEF6',\n",
       "  'profile_text_color': '333333',\n",
       "  'profile_use_background_image': True,\n",
       "  'protected': False,\n",
       "  'screen_name': 'RichesinAva',\n",
       "  'statuses_count': 20913,\n",
       "  'time_zone': None,\n",
       "  'translator_type': 'none',\n",
       "  'url': None,\n",
       "  'utc_offset': None,\n",
       "  'verified': False}}"
      ]
     },
     "execution_count": 47,
     "metadata": {},
     "output_type": "execute_result"
    }
   ],
   "source": [
    "tweets_stream_data[52971]"
   ]
  },
  {
   "cell_type": "markdown",
   "metadata": {},
   "source": [
    "### Load Tweets into a DataFrame"
   ]
  },
  {
   "cell_type": "code",
   "execution_count": 7,
   "metadata": {
    "collapsed": true
   },
   "outputs": [],
   "source": [
    "def make_df(tweets_data):\n",
    "    \n",
    "    tweetsDF = pd.DataFrame()\n",
    "    tweetsDF['user'] = [tweet['user']['screen_name'] for tweet in tweets_data]\n",
    "    tweetsDF['created_at'] = [datetime.strptime(tweet['created_at'], '%a %b %d %H:%M:%S %z %Y') for tweet in tweets_data] \n",
    "    \n",
    "    text = []\n",
    "\n",
    "    for tweet in tweets_data:\n",
    "        try: \n",
    "            text.append(tweet['retweeted_status']['full_text'])\n",
    "        except KeyError:       \n",
    "            text.append(tweet['full_text'])\n",
    "        \n",
    "    tweetsDF['full_text'] = text\n",
    "    \n",
    "    tweetsDF['truncated'] = [tweet['truncated'] for tweet in tweets_data]\n",
    "    tweetsDF['contains_url'] = tweetsDF['full_text'].str.contains('https', regex=True)*1\n",
    "    tweetsDF['favorite_count'] = [tweet['favorite_count'] for tweet in tweets_data]\n",
    "    tweetsDF['location'] = [tweet['place']['country'] if tweet['place'] != None else None \n",
    "                            for tweet in tweets_data]\n",
    "    tweetsDF['time_zone'] = [tweet['user']['time_zone'] for tweet in tweets_data]\n",
    "    tweetsDF['following_count'] = [tweet['user']['friends_count'] for tweet in tweets_data]\n",
    "    tweetsDF['followers_count'] = [tweet['user']['followers_count'] for tweet in tweets_data]\n",
    "    tweetsDF['retweet_count'] = [tweet['retweet_count'] for tweet in tweets_data]\n",
    "    \n",
    "    return tweetsDF"
   ]
  },
  {
   "cell_type": "code",
   "execution_count": 8,
   "metadata": {
    "collapsed": true
   },
   "outputs": [],
   "source": [
    "tweetsDF = make_df(tweets_data)"
   ]
  },
  {
   "cell_type": "code",
   "execution_count": 9,
   "metadata": {
    "scrolled": true
   },
   "outputs": [
    {
     "data": {
      "text/plain": [
       "user               object             \n",
       "created_at         datetime64[ns, UTC]\n",
       "full_text          object             \n",
       "truncated          bool               \n",
       "contains_url       int64              \n",
       "favorite_count     int64              \n",
       "location           object             \n",
       "time_zone          object             \n",
       "following_count    int64              \n",
       "followers_count    int64              \n",
       "retweet_count      int64              \n",
       "dtype: object"
      ]
     },
     "execution_count": 9,
     "metadata": {},
     "output_type": "execute_result"
    }
   ],
   "source": [
    "tweetsDF.dtypes"
   ]
  },
  {
   "cell_type": "code",
   "execution_count": 10,
   "metadata": {},
   "outputs": [
    {
     "data": {
      "text/plain": [
       "'https://t.co/Yu7IgoHsYd population control will not reverse or mitigate climate change here is the logic and evidence #PopulationControlLaw'"
      ]
     },
     "execution_count": 10,
     "metadata": {},
     "output_type": "execute_result"
    }
   ],
   "source": [
    "tweetsDF.full_text[0]"
   ]
  },
  {
   "cell_type": "code",
   "execution_count": 11,
   "metadata": {
    "collapsed": true
   },
   "outputs": [],
   "source": [
    "tweets_streamedDF = make_df(tweets_stream_data)"
   ]
  },
  {
   "cell_type": "code",
   "execution_count": 12,
   "metadata": {},
   "outputs": [
    {
     "data": {
      "text/plain": [
       "user               object             \n",
       "created_at         datetime64[ns, UTC]\n",
       "full_text          object             \n",
       "truncated          bool               \n",
       "contains_url       int64              \n",
       "favorite_count     int64              \n",
       "location           object             \n",
       "time_zone          object             \n",
       "following_count    int64              \n",
       "followers_count    int64              \n",
       "retweet_count      int64              \n",
       "dtype: object"
      ]
     },
     "execution_count": 12,
     "metadata": {},
     "output_type": "execute_result"
    }
   ],
   "source": [
    "tweets_streamedDF.dtypes"
   ]
  },
  {
   "cell_type": "code",
   "execution_count": 13,
   "metadata": {},
   "outputs": [
    {
     "data": {
      "text/plain": [
       "'Memo from activist-lawyer @MattPawa to @TomSteyer outlines strategy to charge energy companies with causing global warming https://t.co/DvBfY2ZHwz https://t.co/cVvXlg7O4I'"
      ]
     },
     "execution_count": 13,
     "metadata": {},
     "output_type": "execute_result"
    }
   ],
   "source": [
    "tweets_streamedDF.full_text[0]"
   ]
  },
  {
   "cell_type": "code",
   "execution_count": 44,
   "metadata": {},
   "outputs": [
    {
     "data": {
      "text/html": [
       "<div>\n",
       "<style>\n",
       "    .dataframe thead tr:only-child th {\n",
       "        text-align: right;\n",
       "    }\n",
       "\n",
       "    .dataframe thead th {\n",
       "        text-align: left;\n",
       "    }\n",
       "\n",
       "    .dataframe tbody tr th {\n",
       "        vertical-align: top;\n",
       "    }\n",
       "</style>\n",
       "<table border=\"1\" class=\"dataframe\">\n",
       "  <thead>\n",
       "    <tr style=\"text-align: right;\">\n",
       "      <th></th>\n",
       "      <th>user</th>\n",
       "      <th>created_at</th>\n",
       "      <th>full_text</th>\n",
       "      <th>truncated</th>\n",
       "      <th>contains_url</th>\n",
       "      <th>favorite_count</th>\n",
       "      <th>location</th>\n",
       "      <th>time_zone</th>\n",
       "      <th>following_count</th>\n",
       "      <th>followers_count</th>\n",
       "      <th>retweet_count</th>\n",
       "    </tr>\n",
       "  </thead>\n",
       "  <tbody>\n",
       "    <tr>\n",
       "      <th>108467</th>\n",
       "      <td>bleedingheartmx</td>\n",
       "      <td>2018-03-02 00:01:24+00:00</td>\n",
       "      <td>Cognitive dissonance is a real thing. Even for the people who don't think global warming is https://t.co/13JM6BvXob</td>\n",
       "      <td>False</td>\n",
       "      <td>1</td>\n",
       "      <td>0</td>\n",
       "      <td>None</td>\n",
       "      <td>America/Los_Angeles</td>\n",
       "      <td>4953</td>\n",
       "      <td>4938</td>\n",
       "      <td>52</td>\n",
       "    </tr>\n",
       "    <tr>\n",
       "      <th>114081</th>\n",
       "      <td>bleedingheartmx</td>\n",
       "      <td>2018-03-02 00:01:24+00:00</td>\n",
       "      <td>Cognitive dissonance is a real thing. Even for the people who don't think global warming is https://t.co/13JM6BvXob</td>\n",
       "      <td>False</td>\n",
       "      <td>1</td>\n",
       "      <td>0</td>\n",
       "      <td>None</td>\n",
       "      <td>America/Los_Angeles</td>\n",
       "      <td>4954</td>\n",
       "      <td>4939</td>\n",
       "      <td>63</td>\n",
       "    </tr>\n",
       "    <tr>\n",
       "      <th>124044</th>\n",
       "      <td>bleedingheartmx</td>\n",
       "      <td>2018-03-02 00:01:24+00:00</td>\n",
       "      <td>Cognitive dissonance is a real thing. Even for the people who don't think global warming is https://t.co/13JM6BvXob</td>\n",
       "      <td>False</td>\n",
       "      <td>1</td>\n",
       "      <td>0</td>\n",
       "      <td>None</td>\n",
       "      <td>America/Los_Angeles</td>\n",
       "      <td>4954</td>\n",
       "      <td>4939</td>\n",
       "      <td>74</td>\n",
       "    </tr>\n",
       "    <tr>\n",
       "      <th>134391</th>\n",
       "      <td>bleedingheartmx</td>\n",
       "      <td>2018-03-02 00:01:24+00:00</td>\n",
       "      <td>Cognitive dissonance is a real thing. Even for the people who don't think global warming is https://t.co/13JM6BvXob</td>\n",
       "      <td>False</td>\n",
       "      <td>1</td>\n",
       "      <td>0</td>\n",
       "      <td>None</td>\n",
       "      <td>America/Los_Angeles</td>\n",
       "      <td>4954</td>\n",
       "      <td>4939</td>\n",
       "      <td>106</td>\n",
       "    </tr>\n",
       "    <tr>\n",
       "      <th>143665</th>\n",
       "      <td>bleedingheartmx</td>\n",
       "      <td>2018-03-02 00:01:24+00:00</td>\n",
       "      <td>Cognitive dissonance is a real thing. Even for the people who don't think global warming is https://t.co/13JM6BvXob</td>\n",
       "      <td>False</td>\n",
       "      <td>1</td>\n",
       "      <td>0</td>\n",
       "      <td>None</td>\n",
       "      <td>America/Los_Angeles</td>\n",
       "      <td>4956</td>\n",
       "      <td>4939</td>\n",
       "      <td>191</td>\n",
       "    </tr>\n",
       "    <tr>\n",
       "      <th>148978</th>\n",
       "      <td>bleedingheartmx</td>\n",
       "      <td>2018-03-02 00:01:24+00:00</td>\n",
       "      <td>Cognitive dissonance is a real thing. Even for the people who don't think global warming is https://t.co/13JM6BvXob</td>\n",
       "      <td>False</td>\n",
       "      <td>1</td>\n",
       "      <td>0</td>\n",
       "      <td>None</td>\n",
       "      <td>America/Los_Angeles</td>\n",
       "      <td>4956</td>\n",
       "      <td>4939</td>\n",
       "      <td>191</td>\n",
       "    </tr>\n",
       "    <tr>\n",
       "      <th>158960</th>\n",
       "      <td>bleedingheartmx</td>\n",
       "      <td>2018-03-02 00:01:24+00:00</td>\n",
       "      <td>Cognitive dissonance is a real thing. Even for the people who don't think global warming is https://t.co/13JM6BvXob</td>\n",
       "      <td>False</td>\n",
       "      <td>1</td>\n",
       "      <td>0</td>\n",
       "      <td>None</td>\n",
       "      <td>America/Los_Angeles</td>\n",
       "      <td>4954</td>\n",
       "      <td>4938</td>\n",
       "      <td>192</td>\n",
       "    </tr>\n",
       "  </tbody>\n",
       "</table>\n",
       "</div>"
      ],
      "text/plain": [
       "                   user                created_at  \\\n",
       "108467  bleedingheartmx 2018-03-02 00:01:24+00:00   \n",
       "114081  bleedingheartmx 2018-03-02 00:01:24+00:00   \n",
       "124044  bleedingheartmx 2018-03-02 00:01:24+00:00   \n",
       "134391  bleedingheartmx 2018-03-02 00:01:24+00:00   \n",
       "143665  bleedingheartmx 2018-03-02 00:01:24+00:00   \n",
       "148978  bleedingheartmx 2018-03-02 00:01:24+00:00   \n",
       "158960  bleedingheartmx 2018-03-02 00:01:24+00:00   \n",
       "\n",
       "                                                                                                                  full_text  \\\n",
       "108467  Cognitive dissonance is a real thing. Even for the people who don't think global warming is https://t.co/13JM6BvXob   \n",
       "114081  Cognitive dissonance is a real thing. Even for the people who don't think global warming is https://t.co/13JM6BvXob   \n",
       "124044  Cognitive dissonance is a real thing. Even for the people who don't think global warming is https://t.co/13JM6BvXob   \n",
       "134391  Cognitive dissonance is a real thing. Even for the people who don't think global warming is https://t.co/13JM6BvXob   \n",
       "143665  Cognitive dissonance is a real thing. Even for the people who don't think global warming is https://t.co/13JM6BvXob   \n",
       "148978  Cognitive dissonance is a real thing. Even for the people who don't think global warming is https://t.co/13JM6BvXob   \n",
       "158960  Cognitive dissonance is a real thing. Even for the people who don't think global warming is https://t.co/13JM6BvXob   \n",
       "\n",
       "        truncated  contains_url  favorite_count location            time_zone  \\\n",
       "108467  False      1             0               None     America/Los_Angeles   \n",
       "114081  False      1             0               None     America/Los_Angeles   \n",
       "124044  False      1             0               None     America/Los_Angeles   \n",
       "134391  False      1             0               None     America/Los_Angeles   \n",
       "143665  False      1             0               None     America/Los_Angeles   \n",
       "148978  False      1             0               None     America/Los_Angeles   \n",
       "158960  False      1             0               None     America/Los_Angeles   \n",
       "\n",
       "        following_count  followers_count  retweet_count  \n",
       "108467  4953             4938             52             \n",
       "114081  4954             4939             63             \n",
       "124044  4954             4939             74             \n",
       "134391  4954             4939             106            \n",
       "143665  4956             4939             191            \n",
       "148978  4956             4939             191            \n",
       "158960  4954             4938             192            "
      ]
     },
     "execution_count": 44,
     "metadata": {},
     "output_type": "execute_result"
    }
   ],
   "source": [
    "tweets_streamedDF[tweets_streamedDF.user == 'bleedingheartmx']"
   ]
  },
  {
   "cell_type": "markdown",
   "metadata": {},
   "source": [
    "Put both sets of tweets together for full corpus.  Retain smaller set for testing purposes."
   ]
  },
  {
   "cell_type": "code",
   "execution_count": 14,
   "metadata": {
    "collapsed": true
   },
   "outputs": [],
   "source": [
    "sampleDF = tweetsDF"
   ]
  },
  {
   "cell_type": "code",
   "execution_count": 29,
   "metadata": {
    "collapsed": true
   },
   "outputs": [],
   "source": [
    "fullDF = pd.concat([tweets_streamedDF, tweetsDF], ignore_index = True)"
   ]
  },
  {
   "cell_type": "code",
   "execution_count": 30,
   "metadata": {
    "scrolled": true
   },
   "outputs": [
    {
     "name": "stdout",
     "output_type": "stream",
     "text": [
      "<class 'pandas.core.frame.DataFrame'>\n",
      "RangeIndex: 17579 entries, 0 to 17578\n",
      "Data columns (total 11 columns):\n",
      "user               17579 non-null object\n",
      "created_at         17579 non-null datetime64[ns, UTC]\n",
      "full_text          17579 non-null object\n",
      "truncated          17579 non-null bool\n",
      "contains_url       17579 non-null int64\n",
      "favorite_count     17579 non-null int64\n",
      "location           229 non-null object\n",
      "time_zone          10438 non-null object\n",
      "following_count    17579 non-null int64\n",
      "followers_count    17579 non-null int64\n",
      "retweet_count      17579 non-null int64\n",
      "dtypes: bool(1), datetime64[ns, UTC](1), int64(5), object(4)\n",
      "memory usage: 1.4+ MB\n"
     ]
    }
   ],
   "source": [
    "sampleDF.info()"
   ]
  },
  {
   "cell_type": "code",
   "execution_count": 33,
   "metadata": {},
   "outputs": [
    {
     "name": "stdout",
     "output_type": "stream",
     "text": [
      "<class 'pandas.core.frame.DataFrame'>\n",
      "RangeIndex: 180920 entries, 0 to 180919\n",
      "Data columns (total 11 columns):\n",
      "user               180920 non-null object\n",
      "created_at         180920 non-null datetime64[ns, UTC]\n",
      "full_text          180920 non-null object\n",
      "truncated          180920 non-null bool\n",
      "contains_url       180920 non-null int64\n",
      "favorite_count     180920 non-null int64\n",
      "location           1991 non-null object\n",
      "time_zone          106776 non-null object\n",
      "following_count    180920 non-null int64\n",
      "followers_count    180920 non-null int64\n",
      "retweet_count      180920 non-null int64\n",
      "dtypes: bool(1), datetime64[ns, UTC](1), int64(5), object(4)\n",
      "memory usage: 14.0+ MB\n"
     ]
    }
   ],
   "source": [
    "fullDF.info()"
   ]
  },
  {
   "cell_type": "markdown",
   "metadata": {},
   "source": [
    "## Clean Tweets"
   ]
  },
  {
   "cell_type": "code",
   "execution_count": 34,
   "metadata": {
    "collapsed": true
   },
   "outputs": [],
   "source": [
    "def clean_tweets(tweet_DF):\n",
    "    \n",
    "    # Remove #-signs, but keep words from hashtag\n",
    "    tweet_DF.full_text.replace(regex=True, inplace = True, to_replace = r'#', value = r'') \n",
    "    \n",
    "    cleaned_tweets = []\n",
    "    for tweet in tweet_DF.full_text:\n",
    "        cleaned_tweets.append(p.clean(tweet))\n",
    "    tweet_DF['full_text'] = cleaned_tweets\n",
    "    \n",
    "     # Remove ampersand code\n",
    "    tweet_DF.full_text.replace(regex=True, inplace = True, to_replace = r'&amp;', value = r'and')\n",
    "    \n",
    "    tweets = []\n",
    "    for tweet in tweet_DF.full_text:\n",
    "        letters_only = re.sub(\"[^a-zA-Z]\", \" \", tweet) \n",
    "        words = ' '.join(letters_only.lower().split())\n",
    "        tweets.append(words)\n",
    "    tweet_DF['full_text'] = tweets\n",
    "    \n",
    "    return tweet_DF"
   ]
  },
  {
   "cell_type": "code",
   "execution_count": 35,
   "metadata": {
    "collapsed": true
   },
   "outputs": [],
   "source": [
    "sampleDF = clean_tweets(sampleDF)"
   ]
  },
  {
   "cell_type": "code",
   "execution_count": 36,
   "metadata": {
    "collapsed": true
   },
   "outputs": [],
   "source": [
    "fullDF = clean_tweets(fullDF)"
   ]
  },
  {
   "cell_type": "code",
   "execution_count": 37,
   "metadata": {},
   "outputs": [
    {
     "data": {
      "text/plain": [
       "'population control will not reverse or mitigate climate change here is the logic and evidence populationcontrollaw'"
      ]
     },
     "execution_count": 37,
     "metadata": {},
     "output_type": "execute_result"
    }
   ],
   "source": [
    "sampleDF.full_text[0]"
   ]
  },
  {
   "cell_type": "code",
   "execution_count": 38,
   "metadata": {},
   "outputs": [
    {
     "data": {
      "text/plain": [
       "'memo from activist lawyer to outlines strategy to charge energy companies with causing global warming'"
      ]
     },
     "execution_count": 38,
     "metadata": {},
     "output_type": "execute_result"
    }
   ],
   "source": [
    "fullDF.full_text[0]"
   ]
  },
  {
   "cell_type": "markdown",
   "metadata": {},
   "source": [
    "## Sentiment Analysis"
   ]
  },
  {
   "cell_type": "code",
   "execution_count": 39,
   "metadata": {
    "collapsed": true
   },
   "outputs": [],
   "source": [
    "def append_sentiment(tweetsDF):\n",
    "    \n",
    "    bloblist = []\n",
    "    for tweet in tweetsDF.full_text:\n",
    "        blob = TextBlob(tweet)\n",
    "        bloblist.append(blob)\n",
    "        \n",
    "    sentlist = []\n",
    "    for blob in bloblist:\n",
    "        bs = blob.sentiment\n",
    "        sentlist.append(bs)\n",
    "\n",
    "    sentDF = pd.DataFrame()\n",
    "    sentDF['sentiment'] = sentlist\n",
    "    \n",
    "    sentDF = sentDF.sentiment.apply(pd.Series)\n",
    "    sentDF.rename(columns={0: 'polarity', 1: 'subjectivity'}, inplace=True)\n",
    "    \n",
    "    tweetsDF['Polarity'] = sentDF.polarity\n",
    "    tweetsDF['Subjectivity'] = sentDF.subjectivity\n",
    "    \n",
    "    return tweetsDF"
   ]
  },
  {
   "cell_type": "code",
   "execution_count": 40,
   "metadata": {
    "collapsed": true
   },
   "outputs": [],
   "source": [
    "sampleDF = append_sentiment(sampleDF)"
   ]
  },
  {
   "cell_type": "code",
   "execution_count": 41,
   "metadata": {
    "collapsed": true
   },
   "outputs": [],
   "source": [
    "fullDF = append_sentiment(fullDF)"
   ]
  },
  {
   "cell_type": "code",
   "execution_count": 44,
   "metadata": {},
   "outputs": [
    {
     "name": "stdout",
     "output_type": "stream",
     "text": [
      "Sample:\n",
      "Polarity: 0.04950138866188848\n",
      "Subjectivity: 0.3255819384331037\n"
     ]
    }
   ],
   "source": [
    "print('Sample:')\n",
    "print('Polarity:', sampleDF.Polarity.mean())\n",
    "print('Subjectivity:', sampleDF.Subjectivity.mean())"
   ]
  },
  {
   "cell_type": "code",
   "execution_count": 45,
   "metadata": {},
   "outputs": [
    {
     "name": "stdout",
     "output_type": "stream",
     "text": [
      "Full:\n",
      "Polarity: 0.053287074657702396\n",
      "Subjectivity: 0.3372217454489455\n"
     ]
    }
   ],
   "source": [
    "print('Full:')\n",
    "print('Polarity:', fullDF.Polarity.mean())\n",
    "print('Subjectivity:', fullDF.Subjectivity.mean())"
   ]
  },
  {
   "cell_type": "code",
   "execution_count": 46,
   "metadata": {
    "collapsed": true
   },
   "outputs": [],
   "source": [
    "with open('clean_tweets_sample.pkl', 'wb') as picklefile: # wb: write, binary\n",
    "    pickle.dump(sampleDF, picklefile) #dump data into pickle file"
   ]
  },
  {
   "cell_type": "code",
   "execution_count": 47,
   "metadata": {
    "collapsed": true
   },
   "outputs": [],
   "source": [
    "with open('clean_tweets_full.pkl', 'wb') as picklefile: # wb: write, binary\n",
    "    pickle.dump(fullDF, picklefile) #dump data into pickle file"
   ]
  },
  {
   "cell_type": "markdown",
   "metadata": {
    "heading_collapsed": true
   },
   "source": [
    "## Location"
   ]
  },
  {
   "cell_type": "code",
   "execution_count": 13,
   "metadata": {
    "hidden": true
   },
   "outputs": [
    {
     "data": {
      "text/plain": [
       "array([None, 'Singapore', 'Australia', 'United Kingdom', 'India',\n",
       "       'Canada', 'United States', 'Kenya', 'Indonesia', 'Malaysia',\n",
       "       'Mexico', 'Spain', 'Thailand', 'Austria', 'Ireland', 'Denmark',\n",
       "       'Greece', 'Mali', 'Norway', 'Japan', 'Finland', 'New Zealand',\n",
       "       'Fiji'], dtype=object)"
      ]
     },
     "execution_count": 13,
     "metadata": {},
     "output_type": "execute_result"
    }
   ],
   "source": [
    "pd.unique(tweetsDF.location)"
   ]
  },
  {
   "cell_type": "code",
   "execution_count": 14,
   "metadata": {
    "hidden": true
   },
   "outputs": [
    {
     "data": {
      "text/plain": [
       "array(['Amsterdam', None, 'Central Time (US & Canada)', 'London',\n",
       "       'Mountain Time (US & Canada)', 'Bern', 'Alaska', 'Baghdad',\n",
       "       'Sydney', 'Casablanca', 'Eastern Time (US & Canada)', 'Athens',\n",
       "       'Pacific Time (US & Canada)', 'America/Chicago', 'Nairobi',\n",
       "       'Quito', 'Bogota', 'Europe/London', 'Brasilia', 'Arizona',\n",
       "       'Midway Island', 'Kabul', 'Brisbane', 'Helsinki', 'Wellington',\n",
       "       'Edinburgh', 'Atlantic Time (Canada)', 'Dublin', 'Pretoria',\n",
       "       'Paris', 'Copenhagen', 'Melbourne', 'Stockholm', 'Africa/Nairobi',\n",
       "       'Berlin', 'Belgrade', 'Canberra', 'Bucharest', \"Nuku'alofa\",\n",
       "       'America/Los_Angeles', 'Monterrey', 'Madrid', 'Hawaii', 'Warsaw',\n",
       "       'Brussels', 'Bangkok', 'Hanoi', 'Greenland', 'Vienna',\n",
       "       'Europe/Madrid', 'Kuala Lumpur', 'Karachi', 'Kyiv', 'Buenos Aires',\n",
       "       'Tbilisi', 'New Delhi', 'Mid-Atlantic', 'Prague',\n",
       "       'America/Toronto', 'PST', 'Singapore', 'Perth', 'Budapest',\n",
       "       'Santiago', 'America/New_York', 'Chennai', 'Cairo', 'Islamabad',\n",
       "       'Zagreb', 'America/Phoenix', 'Abu Dhabi', 'Tokyo', 'Europe/Berlin',\n",
       "       'Ljubljana', 'Adelaide', 'La Paz', 'Irkutsk', 'Mexico City',\n",
       "       'Caracas', 'Dhaka', 'Riyadh', 'Hobart',\n",
       "       'International Date Line West', 'Tehran', 'Jakarta', 'Mumbai',\n",
       "       'Hong Kong', 'West Central Africa', 'Beijing', 'Newfoundland',\n",
       "       'Europe/Athens', 'Asia/Kolkata', 'Rome', 'New Caledonia',\n",
       "       'America/Santiago', 'Kathmandu', 'Auckland', 'America/Detroit',\n",
       "       'Australia/Brisbane', 'America/Denver', 'Indiana (East)', 'Darwin',\n",
       "       'UTC', 'Solomon Is.', 'Jerusalem', 'Africa/Dar_es_Salaam',\n",
       "       'Saskatchewan', 'GMT', 'Seoul', 'Georgetown', 'Minsk', 'Lima',\n",
       "       'Lisbon', 'Europe/Zurich', 'America/Halifax', 'America/Edmonton',\n",
       "       'Asia/Calcutta', 'Africa/Algiers', 'Europe/Moscow', 'Riga',\n",
       "       'Tijuana', 'Europe/Bucharest', 'Europe/Amsterdam', 'Bratislava',\n",
       "       'Europe/Istanbul', 'Urumqi', 'Africa/Kampala', 'Istanbul',\n",
       "       'Europe/Dublin', 'Kolkata', 'Kuwait', 'Baku', 'Rangoon', 'Yakutsk',\n",
       "       'Pacific/Auckland', 'Ekaterinburg', 'Chihuahua', 'America/Boise',\n",
       "       'Guam', 'America/Vancouver', 'Central America', 'Europe/Rome',\n",
       "       'Tallinn', 'BST', 'Volgograd', 'Almaty', 'Europe/Brussels',\n",
       "       'Asia/Bangkok', 'Australia/Sydney', 'Monrovia', 'Moscow',\n",
       "       'Mazatlan', 'Africa/Lagos', 'Africa/Johannesburg', 'Muscat',\n",
       "       'Asia/Baghdad', 'St. Petersburg', 'Europe/Helsinki',\n",
       "       'Sri Jayawardenepura', 'Pacific/Honolulu', 'EST', 'MDT', 'Osaka',\n",
       "       'Pacific/Fiji', 'Sofia', 'Asia/Karachi', 'Astana',\n",
       "       'Australia/Hobart', 'Harare', 'CAT', 'Europe/Kiev', 'Europe/Paris',\n",
       "       'America/Tegucigalpa', 'America/Argentina/Buenos_Aires', 'Vilnius',\n",
       "       'GMT+8', 'America/Tijuana', 'America/Dawson', 'Asia/Dubai',\n",
       "       'Asia/Manila', 'Taipei', 'EDT', 'CST', 'Asia/Kuala_Lumpur', 'Fiji',\n",
       "       'America/Puerto_Rico', 'Azores', 'Asia/Jakarta',\n",
       "       'America/Montreal'], dtype=object)"
      ]
     },
     "execution_count": 14,
     "metadata": {},
     "output_type": "execute_result"
    }
   ],
   "source": [
    "pd.unique(tweetsDF.time_zone)"
   ]
  },
  {
   "cell_type": "code",
   "execution_count": 15,
   "metadata": {
    "hidden": true
   },
   "outputs": [
    {
     "data": {
      "text/plain": [
       "229"
      ]
     },
     "execution_count": 15,
     "metadata": {},
     "output_type": "execute_result"
    }
   ],
   "source": [
    "sum(tweetsDF.location.value_counts())"
   ]
  },
  {
   "cell_type": "code",
   "execution_count": 16,
   "metadata": {
    "hidden": true
   },
   "outputs": [
    {
     "data": {
      "text/plain": [
       "10438"
      ]
     },
     "execution_count": 16,
     "metadata": {},
     "output_type": "execute_result"
    }
   ],
   "source": [
    "sum(tweetsDF.time_zone.value_counts())"
   ]
  },
  {
   "cell_type": "code",
   "execution_count": null,
   "metadata": {
    "collapsed": true,
    "hidden": true
   },
   "outputs": [],
   "source": []
  }
 ],
 "metadata": {
  "kernelspec": {
   "display_name": "Python 3",
   "language": "python",
   "name": "python3"
  },
  "language_info": {
   "codemirror_mode": {
    "name": "ipython",
    "version": 3
   },
   "file_extension": ".py",
   "mimetype": "text/x-python",
   "name": "python",
   "nbconvert_exporter": "python",
   "pygments_lexer": "ipython3",
   "version": "3.6.3"
  },
  "toc": {
   "nav_menu": {},
   "number_sections": true,
   "sideBar": true,
   "skip_h1_title": false,
   "toc_cell": false,
   "toc_position": {},
   "toc_section_display": "block",
   "toc_window_display": false
  }
 },
 "nbformat": 4,
 "nbformat_minor": 2
}
